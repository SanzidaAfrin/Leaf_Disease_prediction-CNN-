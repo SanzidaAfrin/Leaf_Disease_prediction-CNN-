{
 "cells": [
  {
   "cell_type": "code",
   "execution_count": 1,
   "id": "18a16190-3e1a-414e-abf7-b69258dc42e2",
   "metadata": {},
   "outputs": [],
   "source": [
    "import tensorflow as tf\n",
    "import matplotlib.pyplot as plt\n",
    "import pandas as pd\n",
    "import seaborn as sns"
   ]
  },
  {
   "cell_type": "code",
   "execution_count": 2,
   "id": "f2b0d00a-12c8-49f3-a24e-3ae18e941fd4",
   "metadata": {},
   "outputs": [
    {
     "name": "stdout",
     "output_type": "stream",
     "text": [
      "Found 1323 files belonging to 3 classes.\n"
     ]
    }
   ],
   "source": [
    "training_set = tf.keras.utils.image_dataset_from_directory(\n",
    "    'train',\n",
    "    labels=\"inferred\",\n",
    "    label_mode=\"categorical\",\n",
    "    class_names=None,\n",
    "    color_mode=\"rgb\",\n",
    "    batch_size=32,\n",
    "    image_size=(128, 128),\n",
    "    shuffle=True,\n",
    "    seed=None,\n",
    "    validation_split=None,\n",
    "    subset=None,\n",
    "    interpolation=\"bilinear\",\n",
    "    follow_links=False,\n",
    "    crop_to_aspect_ratio=False\n",
    ")"
   ]
  },
  {
   "cell_type": "code",
   "execution_count": 3,
   "id": "dbab37dd-d54e-4a66-99d1-76738fd742ae",
   "metadata": {},
   "outputs": [
    {
     "name": "stdout",
     "output_type": "stream",
     "text": [
      "Found 60 files belonging to 3 classes.\n"
     ]
    }
   ],
   "source": [
    "validation_set = tf.keras.utils.image_dataset_from_directory(\n",
    "    'valid',\n",
    "    labels=\"inferred\",\n",
    "    label_mode=\"categorical\",\n",
    "    class_names=None,\n",
    "    color_mode=\"rgb\",\n",
    "    batch_size=32,\n",
    "    image_size=(128, 128),\n",
    "    shuffle=True,\n",
    "    seed=None,\n",
    "    validation_split=None,\n",
    "    subset=None,\n",
    "    interpolation=\"bilinear\",\n",
    "    follow_links=False,\n",
    "    crop_to_aspect_ratio=False\n",
    ")"
   ]
  },
  {
   "cell_type": "code",
   "execution_count": 4,
   "id": "03684cf8-65a3-4b91-8680-9c64e7a9c1df",
   "metadata": {},
   "outputs": [
    {
     "data": {
      "text/plain": [
       "<_PrefetchDataset element_spec=(TensorSpec(shape=(None, 128, 128, 3), dtype=tf.float32, name=None), TensorSpec(shape=(None, 3), dtype=tf.float32, name=None))>"
      ]
     },
     "execution_count": 4,
     "metadata": {},
     "output_type": "execute_result"
    }
   ],
   "source": [
    "training_set"
   ]
  },
  {
   "cell_type": "code",
   "execution_count": 5,
   "id": "7e50338e-6e23-4419-8138-59e2ca6002dc",
   "metadata": {},
   "outputs": [
    {
     "name": "stdout",
     "output_type": "stream",
     "text": [
      "tf.Tensor(\n",
      "[[[[133.57031  143.32031  118.57031 ]\n",
      "   [123.14844  133.14844  108.14844 ]\n",
      "   [101.1875   111.1875    86.1875  ]\n",
      "   ...\n",
      "   [ 45.867188  73.86719   48.867188]\n",
      "   [ 53.585938  78.64844   56.460938]\n",
      "   [ 67.625     89.625     66.625   ]]\n",
      "\n",
      "  [[181.02344  185.26562  168.47656 ]\n",
      "   [160.07031  166.07031  152.07031 ]\n",
      "   [114.50781  126.50781  106.50781 ]\n",
      "   ...\n",
      "   [ 57.8125    82.8125    60.8125  ]\n",
      "   [ 56.625     84.625     61.625   ]\n",
      "   [ 60.890625  84.8125    60.851562]]\n",
      "\n",
      "  [[181.66406  184.95312  171.60156 ]\n",
      "   [180.       185.       178.      ]\n",
      "   [134.1875   151.0625   130.1875  ]\n",
      "   ...\n",
      "   [ 46.3125    74.3125    51.3125  ]\n",
      "   [ 48.054688  74.05469   47.804688]\n",
      "   [ 39.1875    62.1875    33.1875  ]]\n",
      "\n",
      "  ...\n",
      "\n",
      "  [[255.       255.       255.      ]\n",
      "   [250.3125   254.80469  253.6875  ]\n",
      "   [245.       255.       255.      ]\n",
      "   ...\n",
      "   [189.42969  195.42969  157.42969 ]\n",
      "   [153.01562  161.95312  121.265625]\n",
      "   [109.83594  124.96094   86.25    ]]\n",
      "\n",
      "  [[255.       255.       255.      ]\n",
      "   [251.       255.       254.      ]\n",
      "   [245.       255.       255.      ]\n",
      "   ...\n",
      "   [131.8125   146.       121.984375]\n",
      "   [120.69531  138.50781  117.07031 ]\n",
      "   [106.546875 120.671875  95.921875]]\n",
      "\n",
      "  [[255.       255.       255.      ]\n",
      "   [251.       255.       254.      ]\n",
      "   [245.       255.       255.      ]\n",
      "   ...\n",
      "   [122.0625   139.0625   121.0625  ]\n",
      "   [125.25     142.25     124.25    ]\n",
      "   [115.38281  130.38281  109.63281 ]]]\n",
      "\n",
      "\n",
      " [[[183.67188  200.79688  148.375   ]\n",
      "   [ 96.32031  125.44531   58.445312]\n",
      "   [ 58.109375  92.109375  32.109375]\n",
      "   ...\n",
      "   [149.       184.       118.      ]\n",
      "   [145.0625   180.0625   116.0625  ]\n",
      "   [148.375    183.375    119.375   ]]\n",
      "\n",
      "  [[156.83594  171.83594  129.03906 ]\n",
      "   [138.74219  162.49219  105.296875]\n",
      "   [ 61.8125    96.8125    38.8125  ]\n",
      "   ...\n",
      "   [148.       183.       117.      ]\n",
      "   [148.       183.       119.      ]\n",
      "   [146.89844  181.89844  117.89844 ]]\n",
      "\n",
      "  [[104.32031  120.32031   83.44531 ]\n",
      "   [175.9375   193.9375   143.70312 ]\n",
      "   [ 92.32031  123.32031   55.320312]\n",
      "   ...\n",
      "   [143.94531  180.94531  113.94531 ]\n",
      "   [150.       184.       123.      ]\n",
      "   [149.22656  183.22656  122.22656 ]]\n",
      "\n",
      "  ...\n",
      "\n",
      "  [[179.8125   195.8125   159.6875  ]\n",
      "   [170.94531  186.94531  147.94531 ]\n",
      "   [165.88281  183.88281  141.88281 ]\n",
      "   ...\n",
      "   [ 99.94531  130.94531   73.94531 ]\n",
      "   [ 94.6875   121.6875    68.6875  ]\n",
      "   [ 87.015625 110.390625  65.890625]]\n",
      "\n",
      "  [[182.       197.875    162.25    ]\n",
      "   [164.25     181.25     137.25    ]\n",
      "   [164.8125   183.8125   137.8125  ]\n",
      "   ...\n",
      "   [101.625    132.625     73.625   ]\n",
      "   [ 98.42969  122.42969   72.42969 ]\n",
      "   [ 82.0625   107.8125    59.929688]]\n",
      "\n",
      "  [[180.89062  196.76562  161.14062 ]\n",
      "   [169.       186.       142.      ]\n",
      "   [163.       181.       139.      ]\n",
      "   ...\n",
      "   [ 95.375    122.375     69.375   ]\n",
      "   [ 94.97656  120.97656   72.97656 ]\n",
      "   [ 79.625    106.625     65.625   ]]]\n",
      "\n",
      "\n",
      " [[[146.35156  166.35156  131.10156 ]\n",
      "   [140.89062  160.89062  123.890625]\n",
      "   [145.85156  166.85156  123.85156 ]\n",
      "   ...\n",
      "   [157.625    176.625    154.625   ]\n",
      "   [155.9375   177.9375   154.9375  ]\n",
      "   [153.       178.125    155.75    ]]\n",
      "\n",
      "  [[131.89062  153.17969  114.55469 ]\n",
      "   [150.       167.       133.      ]\n",
      "   [122.44531  142.44531   91.21094 ]\n",
      "   ...\n",
      "   [164.625    182.625    160.625   ]\n",
      "   [161.       180.       158.      ]\n",
      "   [160.72656  180.10156  158.22656 ]]\n",
      "\n",
      "  [[131.875    153.72656  108.796875]\n",
      "   [144.88281  166.88281  130.88281 ]\n",
      "   [128.77344  149.77344  106.77344 ]\n",
      "   ...\n",
      "   [170.88281  183.88281  165.88281 ]\n",
      "   [168.0625   183.0625   162.0625  ]\n",
      "   [166.       184.       162.      ]]\n",
      "\n",
      "  ...\n",
      "\n",
      "  [[ 70.59375  105.59375   65.59375 ]\n",
      "   [ 68.       105.        62.      ]\n",
      "   [ 58.453125  97.453125  50.453125]\n",
      "   ...\n",
      "   [168.6875   182.6875   165.6875  ]\n",
      "   [166.125    183.125    167.125   ]\n",
      "   [173.52344  190.14844  174.27344 ]]\n",
      "\n",
      "  [[ 72.015625 104.390625  67.015625]\n",
      "   [ 65.55469  102.55469   60.804688]\n",
      "   [ 56.882812  95.88281   50.882812]\n",
      "   ...\n",
      "   [170.       182.       168.      ]\n",
      "   [168.4375   185.4375   169.4375  ]\n",
      "   [178.71875  192.71875  177.71875 ]]\n",
      "\n",
      "  [[ 74.35156  106.72656   69.35156 ]\n",
      "   [ 67.9375   105.9375    58.9375  ]\n",
      "   [ 60.        97.        53.      ]\n",
      "   ...\n",
      "   [170.6875   183.6875   166.6875  ]\n",
      "   [172.625    186.625    169.625   ]\n",
      "   [177.60156  191.60156  176.60156 ]]]\n",
      "\n",
      "\n",
      " ...\n",
      "\n",
      "\n",
      " [[[172.67188  185.67188  141.67188 ]\n",
      "   [180.39844  192.39844  154.39844 ]\n",
      "   [179.       190.       156.      ]\n",
      "   ...\n",
      "   [ 77.39844  123.27344   43.648438]\n",
      "   [ 84.25     127.25      48.25    ]\n",
      "   [178.17188  198.42969  132.98438 ]]\n",
      "\n",
      "  [[168.49219  184.42188  139.44531 ]\n",
      "   [174.375    186.375    146.375   ]\n",
      "   [168.       183.       142.      ]\n",
      "   ...\n",
      "   [ 79.       120.        42.      ]\n",
      "   [ 97.       138.625     54.25    ]\n",
      "   [211.60156  215.97656  165.67969 ]]\n",
      "\n",
      "  [[159.16406  178.03906  133.41406 ]\n",
      "   [159.6875   177.6875   135.6875  ]\n",
      "   [151.19531  167.19531  128.19531 ]\n",
      "   ...\n",
      "   [ 75.42969  118.234375  39.820312]\n",
      "   [154.01562  182.78125  103.21094 ]\n",
      "   [221.72656  223.72656  176.72656 ]]\n",
      "\n",
      "  ...\n",
      "\n",
      "  [[ 82.27344  126.27344   73.27344 ]\n",
      "   [ 86.       131.        76.      ]\n",
      "   [ 99.42969  141.42969   77.80469 ]\n",
      "   ...\n",
      "   [106.6875   138.6875    88.6875  ]\n",
      "   [107.6875   142.6875    88.6875  ]\n",
      "   [107.00781  141.13281   89.75781 ]]\n",
      "\n",
      "  [[ 85.13281  130.13281   75.13281 ]\n",
      "   [ 83.390625 128.39062   71.390625]\n",
      "   [ 93.625    136.625     82.015625]\n",
      "   ...\n",
      "   [ 93.50781  128.50781   74.50781 ]\n",
      "   [ 96.109375 128.75781   75.875   ]\n",
      "   [100.00781  135.00781   81.00781 ]]\n",
      "\n",
      "  [[ 80.390625 125.390625  70.140625]\n",
      "   [ 85.47656  130.47656   75.47656 ]\n",
      "   [ 93.875    135.875     85.875   ]\n",
      "   ...\n",
      "   [ 80.234375 117.359375  65.296875]\n",
      "   [ 82.69531  121.69531   66.69531 ]\n",
      "   [ 77.15625  115.90625   61.28125 ]]]\n",
      "\n",
      "\n",
      " [[[ 76.        95.        40.      ]\n",
      "   [ 98.5      120.5       50.      ]\n",
      "   [107.       144.5       67.      ]\n",
      "   ...\n",
      "   [167.       185.       169.      ]\n",
      "   [233.5      252.       254.5     ]\n",
      "   [255.       255.       255.      ]]\n",
      "\n",
      "  [[ 78.5       98.        55.5     ]\n",
      "   [ 64.        79.5       35.5     ]\n",
      "   [ 99.5      123.5       61.5     ]\n",
      "   ...\n",
      "   [163.5      185.5      172.5     ]\n",
      "   [238.       255.       255.      ]\n",
      "   [255.       255.       255.      ]]\n",
      "\n",
      "  [[ 86.5      102.5       63.5     ]\n",
      "   [ 74.5       87.5       44.5     ]\n",
      "   [ 90.5      119.        47.5     ]\n",
      "   ...\n",
      "   [168.       188.5      175.      ]\n",
      "   [253.       255.       255.      ]\n",
      "   [255.       255.       255.      ]]\n",
      "\n",
      "  ...\n",
      "\n",
      "  [[ 82.        86.        71.      ]\n",
      "   [ 89.        98.        77.      ]\n",
      "   [ 89.        97.        73.      ]\n",
      "   ...\n",
      "   [ 75.5       91.5       52.5     ]\n",
      "   [ 79.        92.        62.      ]\n",
      "   [ 68.        77.        56.      ]]\n",
      "\n",
      "  [[ 80.        89.        62.      ]\n",
      "   [ 81.5       90.5       71.5     ]\n",
      "   [ 74.5       87.5       75.      ]\n",
      "   ...\n",
      "   [ 57.        78.        37.      ]\n",
      "   [ 86.       106.        71.      ]\n",
      "   [ 86.        96.        69.      ]]\n",
      "\n",
      "  [[ 87.        98.        68.      ]\n",
      "   [ 67.5       80.5       67.      ]\n",
      "   [ 55.        68.        58.      ]\n",
      "   ...\n",
      "   [ 80.5      100.        66.5     ]\n",
      "   [105.5      128.5       99.5     ]\n",
      "   [101.       111.        81.5     ]]]\n",
      "\n",
      "\n",
      " [[[129.625    136.875     62.25    ]\n",
      "   [127.78125  136.78125   57.78125 ]\n",
      "   [126.875    134.875     59.875   ]\n",
      "   ...\n",
      "   [ 51.78125   81.78125   29.78125 ]\n",
      "   [ 54.25      81.25      30.25    ]\n",
      "   [ 56.25      83.25      32.25    ]]\n",
      "\n",
      "  [[127.53125  135.96875   55.25    ]\n",
      "   [126.       139.        68.8125  ]\n",
      "   [124.       131.        54.      ]\n",
      "   ...\n",
      "   [ 53.        83.        31.      ]\n",
      "   [ 56.875     83.875     32.875   ]\n",
      "   [ 59.5       86.5       33.5     ]]\n",
      "\n",
      "  [[127.65625  128.90625   56.28125 ]\n",
      "   [121.78125  134.78125   52.78125 ]\n",
      "   [121.       127.        57.      ]\n",
      "   ...\n",
      "   [ 53.75      83.75      29.75    ]\n",
      "   [ 58.65625   85.65625   32.65625 ]\n",
      "   [ 57.53125   85.53125   34.53125 ]]\n",
      "\n",
      "  ...\n",
      "\n",
      "  [[116.40625  171.96875   92.09375 ]\n",
      "   [124.125    182.125    107.4375  ]\n",
      "   [124.59375  179.46875  102.09375 ]\n",
      "   ...\n",
      "   [140.96875  167.25     111.5     ]\n",
      "   [170.625    191.875    181.28125 ]\n",
      "   [119.5625   146.5      111.84375 ]]\n",
      "\n",
      "  [[114.09375  168.5625    79.15625 ]\n",
      "   [110.21875  171.3125    76.5625  ]\n",
      "   [157.0625   194.28125  134.8125  ]\n",
      "   ...\n",
      "   [135.0625   162.96875  152.03125 ]\n",
      "   [126.34375  160.0625   144.96875 ]\n",
      "   [ 79.375    125.46875   87.59375 ]]\n",
      "\n",
      "  [[106.75     164.375     65.      ]\n",
      "   [110.03125  170.03125   82.03125 ]\n",
      "   [196.09375  229.875    216.0625  ]\n",
      "   ...\n",
      "   [111.34375  152.375    125.1875  ]\n",
      "   [ 97.9375   138.03125   85.25    ]\n",
      "   [139.1875   171.125    127.53125 ]]]], shape=(32, 128, 128, 3), dtype=float32) (32, 128, 128, 3)\n",
      "tf.Tensor(\n",
      "[[0. 1. 0.]\n",
      " [0. 1. 0.]\n",
      " [0. 1. 0.]\n",
      " [0. 1. 0.]\n",
      " [1. 0. 0.]\n",
      " [0. 1. 0.]\n",
      " [0. 1. 0.]\n",
      " [0. 0. 1.]\n",
      " [0. 0. 1.]\n",
      " [1. 0. 0.]\n",
      " [0. 1. 0.]\n",
      " [1. 0. 0.]\n",
      " [1. 0. 0.]\n",
      " [0. 0. 1.]\n",
      " [1. 0. 0.]\n",
      " [0. 1. 0.]\n",
      " [0. 1. 0.]\n",
      " [1. 0. 0.]\n",
      " [0. 0. 1.]\n",
      " [0. 0. 1.]\n",
      " [0. 1. 0.]\n",
      " [1. 0. 0.]\n",
      " [0. 0. 1.]\n",
      " [0. 0. 1.]\n",
      " [0. 1. 0.]\n",
      " [0. 0. 1.]\n",
      " [0. 0. 1.]\n",
      " [0. 1. 0.]\n",
      " [0. 1. 0.]\n",
      " [0. 0. 1.]\n",
      " [0. 0. 1.]\n",
      " [0. 0. 1.]], shape=(32, 3), dtype=float32) (32, 3)\n"
     ]
    }
   ],
   "source": [
    "for x,y in training_set:\n",
    "    print(x,x.shape)\n",
    "    print(y,y.shape)\n",
    "    break"
   ]
  },
  {
   "cell_type": "code",
   "execution_count": 6,
   "id": "70e0613d-0f28-409c-8f5d-3b8b7567563c",
   "metadata": {},
   "outputs": [],
   "source": [
    "from tensorflow.keras.layers import Dense,Conv2D,MaxPooling2D,Flatten\n",
    "from tensorflow.keras.models import Sequential"
   ]
  },
  {
   "cell_type": "code",
   "execution_count": 7,
   "id": "d46352ca-070f-4089-8b67-dabddd3e015b",
   "metadata": {},
   "outputs": [],
   "source": [
    "model=Sequential()"
   ]
  },
  {
   "cell_type": "code",
   "execution_count": 9,
   "id": "1edef891-10a4-4873-9b58-44a512db5e92",
   "metadata": {},
   "outputs": [],
   "source": [
    "from tensorflow.keras.models import Sequential\n",
    "from tensorflow.keras.layers import Dense, Flatten, Conv2D, MaxPooling2D"
   ]
  },
  {
   "cell_type": "code",
   "execution_count": 10,
   "id": "de5129cf-a181-467d-b387-be4aea580b20",
   "metadata": {},
   "outputs": [
    {
     "name": "stderr",
     "output_type": "stream",
     "text": [
      "C:\\Users\\Sanzida\\AppData\\Local\\Programs\\Python\\Python312\\Lib\\site-packages\\keras\\src\\layers\\convolutional\\base_conv.py:107: UserWarning: Do not pass an `input_shape`/`input_dim` argument to a layer. When using Sequential models, prefer using an `Input(shape)` object as the first layer in the model instead.\n",
      "  super().__init__(activity_regularizer=activity_regularizer, **kwargs)\n"
     ]
    }
   ],
   "source": [
    "# Example model architecture\n",
    "model = Sequential([\n",
    "    Conv2D(32, (3, 3), activation='relu', input_shape=(128, 128, 3)),\n",
    "    MaxPooling2D(pool_size=(2, 2)),\n",
    "    Flatten(),  # Flatten the 2D output to 1D\n",
    "    Dense(128, activation='relu'),\n",
    "    Dense(3, activation='softmax')  # Assuming 3 classes\n",
    "])"
   ]
  },
  {
   "cell_type": "code",
   "execution_count": 11,
   "id": "6527ef50-aa13-4c10-865d-a11c4994455a",
   "metadata": {},
   "outputs": [],
   "source": [
    "model.compile(optimizer='adam', loss='categorical_crossentropy', metrics=['accuracy'])"
   ]
  },
  {
   "cell_type": "code",
   "execution_count": 15,
   "id": "b3651dd1-8cae-42a4-b401-8fc1d3480e66",
   "metadata": {},
   "outputs": [
    {
     "data": {
      "text/html": [
       "<pre style=\"white-space:pre;overflow-x:auto;line-height:normal;font-family:Menlo,'DejaVu Sans Mono',consolas,'Courier New',monospace\"><span style=\"font-weight: bold\">Model: \"sequential_1\"</span>\n",
       "</pre>\n"
      ],
      "text/plain": [
       "\u001b[1mModel: \"sequential_1\"\u001b[0m\n"
      ]
     },
     "metadata": {},
     "output_type": "display_data"
    },
    {
     "data": {
      "text/html": [
       "<pre style=\"white-space:pre;overflow-x:auto;line-height:normal;font-family:Menlo,'DejaVu Sans Mono',consolas,'Courier New',monospace\">┏━━━━━━━━━━━━━━━━━━━━━━━━━━━━━━━━━━━━━━┳━━━━━━━━━━━━━━━━━━━━━━━━━━━━━┳━━━━━━━━━━━━━━━━━┓\n",
       "┃<span style=\"font-weight: bold\"> Layer (type)                         </span>┃<span style=\"font-weight: bold\"> Output Shape                </span>┃<span style=\"font-weight: bold\">         Param # </span>┃\n",
       "┡━━━━━━━━━━━━━━━━━━━━━━━━━━━━━━━━━━━━━━╇━━━━━━━━━━━━━━━━━━━━━━━━━━━━━╇━━━━━━━━━━━━━━━━━┩\n",
       "│ conv2d (<span style=\"color: #0087ff; text-decoration-color: #0087ff\">Conv2D</span>)                      │ (<span style=\"color: #00d7ff; text-decoration-color: #00d7ff\">None</span>, <span style=\"color: #00af00; text-decoration-color: #00af00\">126</span>, <span style=\"color: #00af00; text-decoration-color: #00af00\">126</span>, <span style=\"color: #00af00; text-decoration-color: #00af00\">32</span>)        │             <span style=\"color: #00af00; text-decoration-color: #00af00\">896</span> │\n",
       "├──────────────────────────────────────┼─────────────────────────────┼─────────────────┤\n",
       "│ max_pooling2d (<span style=\"color: #0087ff; text-decoration-color: #0087ff\">MaxPooling2D</span>)         │ (<span style=\"color: #00d7ff; text-decoration-color: #00d7ff\">None</span>, <span style=\"color: #00af00; text-decoration-color: #00af00\">63</span>, <span style=\"color: #00af00; text-decoration-color: #00af00\">63</span>, <span style=\"color: #00af00; text-decoration-color: #00af00\">32</span>)          │               <span style=\"color: #00af00; text-decoration-color: #00af00\">0</span> │\n",
       "├──────────────────────────────────────┼─────────────────────────────┼─────────────────┤\n",
       "│ flatten (<span style=\"color: #0087ff; text-decoration-color: #0087ff\">Flatten</span>)                    │ (<span style=\"color: #00d7ff; text-decoration-color: #00d7ff\">None</span>, <span style=\"color: #00af00; text-decoration-color: #00af00\">127008</span>)              │               <span style=\"color: #00af00; text-decoration-color: #00af00\">0</span> │\n",
       "├──────────────────────────────────────┼─────────────────────────────┼─────────────────┤\n",
       "│ dense (<span style=\"color: #0087ff; text-decoration-color: #0087ff\">Dense</span>)                        │ (<span style=\"color: #00d7ff; text-decoration-color: #00d7ff\">None</span>, <span style=\"color: #00af00; text-decoration-color: #00af00\">128</span>)                 │      <span style=\"color: #00af00; text-decoration-color: #00af00\">16,257,152</span> │\n",
       "├──────────────────────────────────────┼─────────────────────────────┼─────────────────┤\n",
       "│ dense_1 (<span style=\"color: #0087ff; text-decoration-color: #0087ff\">Dense</span>)                      │ (<span style=\"color: #00d7ff; text-decoration-color: #00d7ff\">None</span>, <span style=\"color: #00af00; text-decoration-color: #00af00\">3</span>)                   │             <span style=\"color: #00af00; text-decoration-color: #00af00\">387</span> │\n",
       "└──────────────────────────────────────┴─────────────────────────────┴─────────────────┘\n",
       "</pre>\n"
      ],
      "text/plain": [
       "┏━━━━━━━━━━━━━━━━━━━━━━━━━━━━━━━━━━━━━━┳━━━━━━━━━━━━━━━━━━━━━━━━━━━━━┳━━━━━━━━━━━━━━━━━┓\n",
       "┃\u001b[1m \u001b[0m\u001b[1mLayer (type)                        \u001b[0m\u001b[1m \u001b[0m┃\u001b[1m \u001b[0m\u001b[1mOutput Shape               \u001b[0m\u001b[1m \u001b[0m┃\u001b[1m \u001b[0m\u001b[1m        Param #\u001b[0m\u001b[1m \u001b[0m┃\n",
       "┡━━━━━━━━━━━━━━━━━━━━━━━━━━━━━━━━━━━━━━╇━━━━━━━━━━━━━━━━━━━━━━━━━━━━━╇━━━━━━━━━━━━━━━━━┩\n",
       "│ conv2d (\u001b[38;5;33mConv2D\u001b[0m)                      │ (\u001b[38;5;45mNone\u001b[0m, \u001b[38;5;34m126\u001b[0m, \u001b[38;5;34m126\u001b[0m, \u001b[38;5;34m32\u001b[0m)        │             \u001b[38;5;34m896\u001b[0m │\n",
       "├──────────────────────────────────────┼─────────────────────────────┼─────────────────┤\n",
       "│ max_pooling2d (\u001b[38;5;33mMaxPooling2D\u001b[0m)         │ (\u001b[38;5;45mNone\u001b[0m, \u001b[38;5;34m63\u001b[0m, \u001b[38;5;34m63\u001b[0m, \u001b[38;5;34m32\u001b[0m)          │               \u001b[38;5;34m0\u001b[0m │\n",
       "├──────────────────────────────────────┼─────────────────────────────┼─────────────────┤\n",
       "│ flatten (\u001b[38;5;33mFlatten\u001b[0m)                    │ (\u001b[38;5;45mNone\u001b[0m, \u001b[38;5;34m127008\u001b[0m)              │               \u001b[38;5;34m0\u001b[0m │\n",
       "├──────────────────────────────────────┼─────────────────────────────┼─────────────────┤\n",
       "│ dense (\u001b[38;5;33mDense\u001b[0m)                        │ (\u001b[38;5;45mNone\u001b[0m, \u001b[38;5;34m128\u001b[0m)                 │      \u001b[38;5;34m16,257,152\u001b[0m │\n",
       "├──────────────────────────────────────┼─────────────────────────────┼─────────────────┤\n",
       "│ dense_1 (\u001b[38;5;33mDense\u001b[0m)                      │ (\u001b[38;5;45mNone\u001b[0m, \u001b[38;5;34m3\u001b[0m)                   │             \u001b[38;5;34m387\u001b[0m │\n",
       "└──────────────────────────────────────┴─────────────────────────────┴─────────────────┘\n"
      ]
     },
     "metadata": {},
     "output_type": "display_data"
    },
    {
     "data": {
      "text/html": [
       "<pre style=\"white-space:pre;overflow-x:auto;line-height:normal;font-family:Menlo,'DejaVu Sans Mono',consolas,'Courier New',monospace\"><span style=\"font-weight: bold\"> Total params: </span><span style=\"color: #00af00; text-decoration-color: #00af00\">48,775,307</span> (186.06 MB)\n",
       "</pre>\n"
      ],
      "text/plain": [
       "\u001b[1m Total params: \u001b[0m\u001b[38;5;34m48,775,307\u001b[0m (186.06 MB)\n"
      ]
     },
     "metadata": {},
     "output_type": "display_data"
    },
    {
     "data": {
      "text/html": [
       "<pre style=\"white-space:pre;overflow-x:auto;line-height:normal;font-family:Menlo,'DejaVu Sans Mono',consolas,'Courier New',monospace\"><span style=\"font-weight: bold\"> Trainable params: </span><span style=\"color: #00af00; text-decoration-color: #00af00\">16,258,435</span> (62.02 MB)\n",
       "</pre>\n"
      ],
      "text/plain": [
       "\u001b[1m Trainable params: \u001b[0m\u001b[38;5;34m16,258,435\u001b[0m (62.02 MB)\n"
      ]
     },
     "metadata": {},
     "output_type": "display_data"
    },
    {
     "data": {
      "text/html": [
       "<pre style=\"white-space:pre;overflow-x:auto;line-height:normal;font-family:Menlo,'DejaVu Sans Mono',consolas,'Courier New',monospace\"><span style=\"font-weight: bold\"> Non-trainable params: </span><span style=\"color: #00af00; text-decoration-color: #00af00\">0</span> (0.00 B)\n",
       "</pre>\n"
      ],
      "text/plain": [
       "\u001b[1m Non-trainable params: \u001b[0m\u001b[38;5;34m0\u001b[0m (0.00 B)\n"
      ]
     },
     "metadata": {},
     "output_type": "display_data"
    },
    {
     "data": {
      "text/html": [
       "<pre style=\"white-space:pre;overflow-x:auto;line-height:normal;font-family:Menlo,'DejaVu Sans Mono',consolas,'Courier New',monospace\"><span style=\"font-weight: bold\"> Optimizer params: </span><span style=\"color: #00af00; text-decoration-color: #00af00\">32,516,872</span> (124.04 MB)\n",
       "</pre>\n"
      ],
      "text/plain": [
       "\u001b[1m Optimizer params: \u001b[0m\u001b[38;5;34m32,516,872\u001b[0m (124.04 MB)\n"
      ]
     },
     "metadata": {},
     "output_type": "display_data"
    }
   ],
   "source": [
    "model.summary()"
   ]
  },
  {
   "cell_type": "code",
   "execution_count": 12,
   "id": "ca913a56-9792-4759-ae73-1c86e545a2e6",
   "metadata": {},
   "outputs": [
    {
     "name": "stdout",
     "output_type": "stream",
     "text": [
      "Epoch 1/5\n",
      "\u001b[1m42/42\u001b[0m \u001b[32m━━━━━━━━━━━━━━━━━━━━\u001b[0m\u001b[37m\u001b[0m \u001b[1m68s\u001b[0m 2s/step - accuracy: 0.3938 - loss: 3548.5022 - val_accuracy: 0.6833 - val_loss: 51.8343\n",
      "Epoch 2/5\n",
      "\u001b[1m42/42\u001b[0m \u001b[32m━━━━━━━━━━━━━━━━━━━━\u001b[0m\u001b[37m\u001b[0m \u001b[1m46s\u001b[0m 1s/step - accuracy: 0.8182 - loss: 19.5995 - val_accuracy: 0.6833 - val_loss: 32.6094\n",
      "Epoch 3/5\n",
      "\u001b[1m42/42\u001b[0m \u001b[32m━━━━━━━━━━━━━━━━━━━━\u001b[0m\u001b[37m\u001b[0m \u001b[1m45s\u001b[0m 1s/step - accuracy: 0.8931 - loss: 7.8556 - val_accuracy: 0.6833 - val_loss: 25.1711\n",
      "Epoch 4/5\n",
      "\u001b[1m42/42\u001b[0m \u001b[32m━━━━━━━━━━━━━━━━━━━━\u001b[0m\u001b[37m\u001b[0m \u001b[1m45s\u001b[0m 1s/step - accuracy: 0.9295 - loss: 2.8096 - val_accuracy: 0.7167 - val_loss: 20.5494\n",
      "Epoch 5/5\n",
      "\u001b[1m42/42\u001b[0m \u001b[32m━━━━━━━━━━━━━━━━━━━━\u001b[0m\u001b[37m\u001b[0m \u001b[1m46s\u001b[0m 1s/step - accuracy: 0.9669 - loss: 1.2730 - val_accuracy: 0.8000 - val_loss: 18.6100\n"
     ]
    }
   ],
   "source": [
    "training_history = model.fit(training_set,\n",
    "                    batch_size=16,\n",
    "                    epochs=5,\n",
    "                    validation_data=validation_set,\n",
    "                    validation_batch_size=16)\n"
   ]
  },
  {
   "cell_type": "code",
   "execution_count": 13,
   "id": "6ac9f382-e5e7-4fba-a865-5a43bafd54d2",
   "metadata": {},
   "outputs": [
    {
     "name": "stdout",
     "output_type": "stream",
     "text": [
      "\u001b[1m42/42\u001b[0m \u001b[32m━━━━━━━━━━━━━━━━━━━━\u001b[0m\u001b[37m\u001b[0m \u001b[1m34s\u001b[0m 801ms/step - accuracy: 0.9500 - loss: 2.1311\n",
      "Training accuracy: 0.9417989253997803\n"
     ]
    }
   ],
   "source": [
    "#Training set Accuracy\n",
    "train_loss, train_acc = model.evaluate(training_set)\n",
    "print('Training accuracy:', train_acc)"
   ]
  },
  {
   "cell_type": "code",
   "execution_count": 14,
   "id": "0a45f179-1724-4480-b0bf-b1f6c71e8143",
   "metadata": {},
   "outputs": [
    {
     "name": "stdout",
     "output_type": "stream",
     "text": [
      "\u001b[1m2/2\u001b[0m \u001b[32m━━━━━━━━━━━━━━━━━━━━\u001b[0m\u001b[37m\u001b[0m \u001b[1m2s\u001b[0m 612ms/step - accuracy: 0.8354 - loss: 15.4562\n",
      "Validation accuracy: 0.800000011920929\n"
     ]
    }
   ],
   "source": [
    "#Validation set Accuracy\n",
    "val_loss, val_acc = model.evaluate(validation_set)\n",
    "print('Validation accuracy:', val_acc)"
   ]
  },
  {
   "cell_type": "code",
   "execution_count": 16,
   "id": "8b37f65a-1cea-4f3b-bd4a-b6da4bb586dd",
   "metadata": {},
   "outputs": [],
   "source": [
    "model.save('trained_plant_disease_model.keras')"
   ]
  },
  {
   "cell_type": "code",
   "execution_count": 17,
   "id": "59db227b-3189-4f5c-89cb-54ca0c0de468",
   "metadata": {},
   "outputs": [
    {
     "data": {
      "text/plain": [
       "{'accuracy': [0.47694632411003113,\n",
       "  0.8427815437316895,\n",
       "  0.9017384648323059,\n",
       "  0.9319728016853333,\n",
       "  0.9652305245399475],\n",
       " 'loss': [1738.021728515625,\n",
       "  15.394547462463379,\n",
       "  6.5993828773498535,\n",
       "  2.4135730266571045,\n",
       "  1.2678277492523193],\n",
       " 'val_accuracy': [0.6833333373069763,\n",
       "  0.6833333373069763,\n",
       "  0.6833333373069763,\n",
       "  0.7166666388511658,\n",
       "  0.800000011920929],\n",
       " 'val_loss': [51.83433532714844,\n",
       "  32.609352111816406,\n",
       "  25.17108154296875,\n",
       "  20.54937171936035,\n",
       "  18.610029220581055]}"
      ]
     },
     "execution_count": 17,
     "metadata": {},
     "output_type": "execute_result"
    }
   ],
   "source": [
    "training_history.history #Return Dictionary of history"
   ]
  },
  {
   "cell_type": "code",
   "execution_count": 18,
   "id": "2eebfecf-8349-4c63-ab36-bd6576aafbf0",
   "metadata": {},
   "outputs": [],
   "source": [
    "#Recording History in json\n",
    "import json\n",
    "with open('training_hist.json','w') as f:\n",
    "  json.dump(training_history.history,f)"
   ]
  },
  {
   "cell_type": "code",
   "execution_count": 19,
   "id": "20f14ba4-2d95-4083-a045-ca5c5588b62b",
   "metadata": {},
   "outputs": [],
   "source": [
    "from matplotlib import pyplot as plt\n",
    "from matplotlib.pyplot import figure"
   ]
  },
  {
   "cell_type": "code",
   "execution_count": 27,
   "id": "8beac11e-bbf1-4611-89bb-f13de8735bd6",
   "metadata": {},
   "outputs": [
    {
     "data": {
      "image/png": "[encoded data removed]",
      "text/plain": [
       "<Figure size 640x400 with 1 Axes>"
      ]
     },
     "metadata": {},
     "output_type": "display_data"
    }
   ],
   "source": [
    "import seaborn as sns\n",
    "sns.set_theme()\n",
    "sns.set_context(\"poster\")\n",
    "\n",
    "figure(figsize=(8, 5), dpi=80)\n",
    "\n",
    "plt.plot(training_history.history['accuracy'],color='red',label='Training Accuracy')\n",
    "plt.plot(training_history.history['val_accuracy'],color='blue',label='Validation Accuracy')\n",
    "plt.title('model accuracy')\n",
    "plt.ylabel('accuracy')\n",
    "plt.xlabel('epoch')\n",
    "plt.legend(['train', 'val'], loc='upper left')\n",
    "plt.show()"
   ]
  },
  {
   "cell_type": "code",
   "execution_count": 28,
   "id": "d1a2e007-c5f1-4f48-841b-0f1e39fa2289",
   "metadata": {},
   "outputs": [
    {
     "name": "stdout",
     "output_type": "stream",
     "text": [
      "dict_keys(['accuracy', 'loss', 'val_accuracy', 'val_loss'])\n"
     ]
    }
   ],
   "source": [
    "print(training_history.history.keys())"
   ]
  },
  {
   "cell_type": "code",
   "execution_count": 29,
   "id": "b96d4fc8-6d0f-42af-bc36-006608819dd7",
   "metadata": {},
   "outputs": [
    {
     "data": {
      "text/plain": [
       "['Healthy', 'Powdery', 'Rust']"
      ]
     },
     "execution_count": 29,
     "metadata": {},
     "output_type": "execute_result"
    }
   ],
   "source": [
    "class_name = validation_set.class_names\n",
    "class_name"
   ]
  },
  {
   "cell_type": "code",
   "execution_count": 32,
   "id": "96b9fb4d-ee2b-491a-866c-4a8c7086b920",
   "metadata": {},
   "outputs": [
    {
     "name": "stdout",
     "output_type": "stream",
     "text": [
      "Found 60 files belonging to 3 classes.\n"
     ]
    }
   ],
   "source": [
    "test_set = tf.keras.utils.image_dataset_from_directory(\n",
    "    'valid',\n",
    "    labels=\"inferred\",\n",
    "    label_mode=\"categorical\",\n",
    "    class_names=None,\n",
    "    color_mode=\"rgb\",\n",
    "    batch_size=1,\n",
    "    image_size=(128, 128),\n",
    "    shuffle=False,\n",
    "    seed=None,\n",
    "    validation_split=None,\n",
    "    subset=None,\n",
    "    interpolation=\"bilinear\",\n",
    "    follow_links=False,\n",
    "    crop_to_aspect_ratio=False\n",
    ")"
   ]
  },
  {
   "cell_type": "code",
   "execution_count": 33,
   "id": "89b1780c-126d-4fce-bff7-7dd4a57039cb",
   "metadata": {},
   "outputs": [
    {
     "name": "stdout",
     "output_type": "stream",
     "text": [
      "\u001b[1m60/60\u001b[0m \u001b[32m━━━━━━━━━━━━━━━━━━━━\u001b[0m\u001b[37m\u001b[0m \u001b[1m4s\u001b[0m 32ms/step\n"
     ]
    }
   ],
   "source": [
    "y_pred = model.predict(test_set)\n",
    "predicted_categories = tf.argmax(y_pred, axis=1)"
   ]
  },
  {
   "cell_type": "code",
   "execution_count": 34,
   "id": "c075e07f-4fdf-432f-bcf5-08c8d4e57bd2",
   "metadata": {},
   "outputs": [],
   "source": [
    "true_categories = tf.concat([y for x, y in test_set], axis=0)\n",
    "Y_true = tf.argmax(true_categories, axis=1)"
   ]
  },
  {
   "cell_type": "code",
   "execution_count": 35,
   "id": "1d109e43-66e0-454d-adc3-f8b65f48209e",
   "metadata": {},
   "outputs": [
    {
     "data": {
      "text/plain": [
       "<tf.Tensor: shape=(60,), dtype=int64, numpy=\n",
       "array([0, 0, 0, 0, 0, 0, 0, 0, 0, 0, 0, 0, 0, 0, 0, 0, 0, 0, 0, 0, 1, 1,\n",
       "       1, 1, 1, 1, 1, 1, 1, 1, 1, 1, 1, 1, 1, 1, 1, 1, 1, 1, 2, 2, 2, 2,\n",
       "       2, 2, 2, 2, 2, 2, 2, 2, 2, 2, 2, 2, 2, 2, 2, 2], dtype=int64)>"
      ]
     },
     "execution_count": 35,
     "metadata": {},
     "output_type": "execute_result"
    }
   ],
   "source": [
    "Y_true"
   ]
  },
  {
   "cell_type": "code",
   "execution_count": 36,
   "id": "e6dd74b7-c2e8-4a13-b878-14de80216de6",
   "metadata": {},
   "outputs": [
    {
     "data": {
      "text/plain": [
       "<tf.Tensor: shape=(60,), dtype=int64, numpy=\n",
       "array([0, 0, 0, 0, 0, 0, 0, 1, 0, 0, 0, 0, 0, 0, 0, 0, 0, 0, 0, 2, 1, 0,\n",
       "       1, 1, 1, 0, 1, 1, 1, 0, 1, 1, 1, 0, 1, 1, 1, 1, 1, 0, 2, 2, 0, 2,\n",
       "       2, 2, 2, 0, 0, 2, 2, 2, 2, 2, 2, 2, 0, 2, 2, 0], dtype=int64)>"
      ]
     },
     "execution_count": 36,
     "metadata": {},
     "output_type": "execute_result"
    }
   ],
   "source": [
    "predicted_categories"
   ]
  },
  {
   "cell_type": "code",
   "execution_count": 37,
   "id": "a71ff847-0c95-4d41-b021-610992d0085c",
   "metadata": {},
   "outputs": [
    {
     "name": "stdout",
     "output_type": "stream",
     "text": [
      "Requirement already satisfied: scikit-learn in c:\\users\\sanzida\\appdata\\local\\programs\\python\\python312\\lib\\site-packages (1.5.1)\n",
      "Requirement already satisfied: numpy>=1.19.5 in c:\\users\\sanzida\\appdata\\local\\programs\\python\\python312\\lib\\site-packages (from scikit-learn) (1.26.4)\n",
      "Requirement already satisfied: scipy>=1.6.0 in c:\\users\\sanzida\\appdata\\local\\programs\\python\\python312\\lib\\site-packages (from scikit-learn) (1.14.0)\n",
      "Requirement already satisfied: joblib>=1.2.0 in c:\\users\\sanzida\\appdata\\local\\programs\\python\\python312\\lib\\site-packages (from scikit-learn) (1.4.2)\n",
      "Requirement already satisfied: threadpoolctl>=3.1.0 in c:\\users\\sanzida\\appdata\\local\\programs\\python\\python312\\lib\\site-packages (from scikit-learn) (3.5.0)\n",
      "Note: you may need to restart the kernel to use updated packages.\n"
     ]
    }
   ],
   "source": [
    "pip install scikit-learn"
   ]
  },
  {
   "cell_type": "code",
   "execution_count": 38,
   "id": "3aab820d-e4ee-4449-82e9-c7308b0d5be2",
   "metadata": {},
   "outputs": [],
   "source": [
    "from sklearn.metrics import confusion_matrix,classification_report\n",
    "cm = confusion_matrix(Y_true,predicted_categories)"
   ]
  },
  {
   "cell_type": "code",
   "execution_count": 39,
   "id": "10ed3979-573b-48f2-8725-224428cc1e98",
   "metadata": {},
   "outputs": [
    {
     "name": "stdout",
     "output_type": "stream",
     "text": [
      "              precision    recall  f1-score   support\n",
      "\n",
      "     Healthy       0.64      0.90      0.75        20\n",
      "     Powdery       0.94      0.75      0.83        20\n",
      "        Rust       0.94      0.75      0.83        20\n",
      "\n",
      "    accuracy                           0.80        60\n",
      "   macro avg       0.84      0.80      0.81        60\n",
      "weighted avg       0.84      0.80      0.81        60\n",
      "\n"
     ]
    }
   ],
   "source": [
    "# Precision Recall Fscore\n",
    "print(classification_report(Y_true,predicted_categories,target_names=class_name))"
   ]
  },
  {
   "cell_type": "code",
   "execution_count": 40,
   "id": "366f35c1-803c-4c9f-b021-98e2ab341140",
   "metadata": {},
   "outputs": [
    {
     "data": {
      "text/plain": [
       "array([[18,  1,  1],\n",
       "       [ 5, 15,  0],\n",
       "       [ 5,  0, 15]], dtype=int64)"
      ]
     },
     "execution_count": 40,
     "metadata": {},
     "output_type": "execute_result"
    }
   ],
   "source": [
    "cm=confusion_matrix(Y_true,predicted_categories)\n",
    "cm"
   ]
  },
  {
   "cell_type": "code",
   "execution_count": 41,
   "id": "29e5c2e4-5055-44b6-b630-ac2c9e2d70f9",
   "metadata": {},
   "outputs": [],
   "source": [
    "cmn = cm / cm.astype(float).sum(axis=1)"
   ]
  },
  {
   "cell_type": "code",
   "execution_count": 42,
   "id": "31ef6a0d-b941-4da7-9003-a5d53389c737",
   "metadata": {},
   "outputs": [],
   "source": [
    "labels=['Healthy', 'Powdery', 'Rust']"
   ]
  },
  {
   "cell_type": "code",
   "execution_count": 44,
   "id": "d054c979-db3d-4bf5-9556-1823a6ef0462",
   "metadata": {},
   "outputs": [
    {
     "data": {
      "text/plain": [
       "<Axes: >"
      ]
     },
     "execution_count": 44,
     "metadata": {},
     "output_type": "execute_result"
    },
    {
     "data": {
      "image/png": "[encoded data removed]",
      "text/plain": [
       "<Figure size 640x480 with 2 Axes>"
      ]
     },
     "metadata": {},
     "output_type": "display_data"
    }
   ],
   "source": [
    "sns.heatmap(cmn,cmap= \"Blues\", linecolor = 'black' , linewidth = 1 , annot = True,xticklabels = labels,yticklabels = labels)"
   ]
  },
  {
   "cell_type": "code",
   "execution_count": 45,
   "id": "aa773d29-19c8-448e-98cb-9f8904cbaaa2",
   "metadata": {},
   "outputs": [
    {
     "data": {
      "text/plain": [
       "<Axes: >"
      ]
     },
     "execution_count": 45,
     "metadata": {},
     "output_type": "execute_result"
    },
    {
     "data": {
      "image/png": "[encoded data removed]",
      "text/plain": [
       "<Figure size 640x480 with 2 Axes>"
      ]
     },
     "metadata": {},
     "output_type": "display_data"
    }
   ],
   "source": [
    "sns.heatmap(cm)"
   ]
  },
  {
   "cell_type": "code",
   "execution_count": 51,
   "id": "3751d9ee-1971-472f-bc7e-19547a5bff85",
   "metadata": {},
   "outputs": [
    {
     "data": {
      "image/png": "[encoded data removed]",
      "text/plain": [
       "<Figure size 700x500 with 2 Axes>"
      ]
     },
     "metadata": {},
     "output_type": "display_data"
    }
   ],
   "source": [
    "plt.figure(figsize=(7, 5))\n",
    "sns.heatmap(cm,annot=True,annot_kws={\"size\": 10})\n",
    "\n",
    "plt.xlabel('Predicted Class',fontsize = 20)\n",
    "plt.ylabel('Actual Class',fontsize = 20)\n",
    "plt.title('Plant Disease Prediction Confusion Matrix',fontsize = 15)\n",
    "plt.show()"
   ]
  },
  {
   "cell_type": "code",
   "execution_count": null,
   "id": "611601c1-0a60-4b4e-9bce-4643d313dda9",
   "metadata": {},
   "outputs": [],
   "source": []
  }
 ],
 "metadata": {
  "kernelspec": {
   "display_name": "Python 3 (ipykernel)",
   "language": "python",
   "name": "python3"
  },
  "language_info": {
   "codemirror_mode": {
    "name": "ipython",
    "version": 3
   },
   "file_extension": ".py",
   "mimetype": "text/x-python",
   "name": "python",
   "nbconvert_exporter": "python",
   "pygments_lexer": "ipython3",
   "version": "3.12.3"
  }
 },
 "nbformat": 4,
 "nbformat_minor": 5
}
